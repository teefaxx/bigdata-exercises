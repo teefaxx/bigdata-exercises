{
 "cells": [
  {
   "cell_type": "markdown",
   "metadata": {},
   "source": [
    "# <center>Big Data for Engineers – Exercises</center>\n",
    "## <center>Spring 2022 – Week 8 – ETH Zurich</center>\n",
    "## <center>Notebook for the Spark Moodle Quiz - Solution</center>"
   ]
  },
  {
   "cell_type": "markdown",
   "metadata": {},
   "source": [
    "## Start docker\n",
    "\n",
    "In your exercise 08 directory, start docker\n",
    "\n",
    "```\n",
    "docker compose up\n",
    "```\n",
    "\n",
    "After docker finishes downloading the images, you should be able to start the jupyter notebook by copying the following URL to your browser\n",
    "\n",
    "```\n",
    "http://127.0.0.1:8888/lab\n",
    "```"
   ]
  },
  {
   "cell_type": "code",
   "execution_count": 2,
   "metadata": {
    "tags": []
   },
   "outputs": [],
   "source": [
    "import time\n",
    "from pyspark.context import SparkContext\n",
    "# sc is the Spark Context object \n",
    "sc = SparkContext('local', 'test')"
   ]
  },
  {
   "cell_type": "markdown",
   "metadata": {
    "cell_status": {
     "execute_time": {
      "duration": 44.55712890625,
      "end_time": 1557044256642.663
     }
    }
   },
   "source": [
    "### The Moodle Quiz\n",
    "\n",
    "For this quiz we will be using the [language confusion dataset](https://quietlyamused.org/blog/2014/03/12/language-confusion/).\n",
    "\n",
    "As mentioned in the exercise, this quiz is a part of the small project you will be doing over the following 3 weeks to compare Spark, Spark with DataFrames/SQL, and JSONiq. You will hear more about it in the coming weeks.\n",
    "\n",
    "For the Moodle quiz we ask you to submit the following things:\n",
    "- The query you wrote (although it is not graded, having your query is helpful for arguing about points)\n",
    "- Something related to its output (**the only part that is graded**)\n",
    "- The time it took you to write it (thinking time)\n",
    "- The time it took you to run it (execution time)\n",
    "\n",
    "You don't need to submit this notebook, only the queries you wrote.\n",
    "\n",
    "On your own laptop, download and decompress the dataset into the ex08 folder using the commands below. You can also copy the URL to your browser to download it, then decompress it using the default decompression tools Windows/Mac. Alternatively, you can also run the commands in jupyter notebook, but it takes several minutes to decompress it in the docker container.\n",
    "\n",
    "```bash\n",
    "wget https://cloud.inf.ethz.ch/s/a8FoHew6dHKGYKK/download/confusion20140302.tbz2; tar -jxvf confusion20140302.tbz2\n",
    "```"
   ]
  },
  {
   "cell_type": "code",
   "execution_count": 3,
   "metadata": {
    "ExecuteTime": {
     "end_time": "2021-05-03T17:07:34.367427Z",
     "start_time": "2021-05-03T17:07:33.474055Z"
    },
    "cell_status": {
     "execute_time": {
      "duration": 747.39990234375,
      "end_time": 1619999839916.484
     }
    },
    "tags": []
   },
   "outputs": [],
   "source": [
    "data = sc.textFile('./confusion-2014-03-02/confusion-2014-03-02.json')"
   ]
  },
  {
   "cell_type": "markdown",
   "metadata": {},
   "source": [
    "Since the entries are JSON records, you will need to parse them and use their respective object representations. You can use this mapping for all queries. Since some of the queries take a long time to execute on the dataset, you may want to answer these queries on the first `100000` entries. \n",
    "\n",
    "**For the quiz, fill in the results by running the queries on the 100000-entry subset (`test_entries` as defined in the following cell) instead of the entire dataset.**"
   ]
  },
  {
   "cell_type": "code",
   "execution_count": 4,
   "metadata": {
    "ExecuteTime": {
     "end_time": "2021-05-03T17:11:24.581153Z",
     "start_time": "2021-05-03T17:11:23.900172Z"
    },
    "cell_status": {
     "execute_time": {
      "duration": 5296.226806640625,
      "end_time": 1619999845222.09
     }
    },
    "tags": []
   },
   "outputs": [
    {
     "name": "stdout",
     "output_type": "stream",
     "text": [
      "{'guess': 'Norwegian', 'target': 'Norwegian', 'country': 'AU', 'choices': ['Maori', 'Mandarin', 'Norwegian', 'Tongan'], 'sample': '48f9c924e0d98c959d8a6f1862b3ce9a', 'date': '2013-08-19'}\n"
     ]
    }
   ],
   "source": [
    "import json\n",
    "\n",
    "testset = sc.parallelize(data.take(100000))\n",
    "test_entries = testset.map(json.loads)\n",
    "\n",
    "print(test_entries.first())"
   ]
  },
  {
   "cell_type": "markdown",
   "metadata": {},
   "source": [
    "Good! Let's get to work. A few last things:\n",
    "- Take into account that some of the queries might have very large outputs, which Jupyter (or sometimes even Spark) won't be able to handle. It is normal for the queries to take some time, but if the notebook crashes or stops responding, try restarting the kernel. Avoid printing large outputs. You can print the first few entries to confirm the query has worked, as shown in query 1.\n",
    "- Remember to delete the cluster if you want to stop working! You can recreate it using the same container name and your resources will still be there.\n",
    "- Refer to the [documentation](http://spark.apache.org/docs/2.3.0/api/python/pyspark.html#pyspark.RDD), as well as the programming guides on actions and transformations linked to above.\n",
    "\n",
    "And now to the actual queries: *Please make sure that in your queries you *only* use PySpark, and avoid any dataframes (they will covered in next week's exercises)*\n",
    "\n",
    "1\\. Find all games such that the guessed language is correct (=target), and such that this language is Spanish. What is the length of the resulting sequence?"
   ]
  },
  {
   "cell_type": "code",
   "execution_count": 5,
   "metadata": {
    "ExecuteTime": {
     "end_time": "2021-05-03T15:31:40.763220Z",
     "start_time": "2021-05-03T15:31:40.039089Z"
    },
    "cell_status": {
     "execute_time": {
      "duration": 2256.77880859375,
      "end_time": 1619999854080.019
     }
    },
    "scrolled": true,
    "tags": []
   },
   "outputs": [
    {
     "name": "stdout",
     "output_type": "stream",
     "text": [
      "[\n",
      "    {\n",
      "        \"guess\": \"Spanish\",\n",
      "        \"target\": \"Spanish\",\n",
      "        \"country\": \"AU\",\n",
      "        \"choices\": [\n",
      "            \"Amharic\",\n",
      "            \"Czech\",\n",
      "            \"Sinhalese\",\n",
      "            \"Spanish\"\n",
      "        ],\n",
      "        \"sample\": \"dc3ace49393de518e87d4f8d3ae8d9db\",\n",
      "        \"date\": \"2013-08-19\"\n",
      "    },\n",
      "    {\n",
      "        \"guess\": \"Spanish\",\n",
      "        \"target\": \"Spanish\",\n",
      "        \"country\": \"AU\",\n",
      "        \"choices\": [\n",
      "            \"Albanian\",\n",
      "            \"Dinka\",\n",
      "            \"Spanish\",\n",
      "            \"Thai\"\n",
      "        ],\n",
      "        \"sample\": \"c8f4f097079404bf9a0e94d604efd1d5\",\n",
      "        \"date\": \"2013-08-19\"\n",
      "    },\n",
      "    {\n",
      "        \"guess\": \"Spanish\",\n",
      "        \"target\": \"Spanish\",\n",
      "        \"country\": \"AU\",\n",
      "        \"choices\": [\n",
      "            \"Maori\",\n",
      "            \"Dari\",\n",
      "            \"Korean\",\n",
      "            \"Spanish\"\n",
      "        ],\n",
      "        \"sample\": \"c8f4f097079404bf9a0e94d604efd1d5\",\n",
      "        \"date\": \"2013-08-19\"\n",
      "    }\n",
      "]\n",
      "Number of matching games  2094\n",
      "Time consumption 0.6488256454467773 sec\n"
     ]
    }
   ],
   "source": [
    "start = time.time()\n",
    "# Query:\n",
    "matching = test_entries.filter(lambda e: e[\"target\"] == \"Spanish\").filter(lambda e: e[\"target\"] == e[\"guess\"]).collect()\n",
    "end = time.time()\n",
    "# Only print the first few entries\n",
    "print(json.dumps(matching[:3], indent=4))\n",
    "# print number of matching \n",
    "print('Number of matching games ', len(matching))\n",
    "print('Time consumption {} sec'.format(end - start))"
   ]
  },
  {
   "cell_type": "markdown",
   "metadata": {},
   "source": [
    "2\\. Find the number of all distinct values of the *guessed* languages (i.e. the *guess* field). What is the length of the resulting sequence?"
   ]
  },
  {
   "cell_type": "code",
   "execution_count": 20,
   "metadata": {
    "ExecuteTime": {
     "end_time": "2021-05-03T15:34:36.715804Z",
     "start_time": "2021-05-03T15:34:35.945578Z"
    },
    "cell_status": {
     "execute_time": {
      "duration": 1249.218017578125,
      "end_time": 1619999878828.007
     }
    },
    "tags": []
   },
   "outputs": [
    {
     "name": "stdout",
     "output_type": "stream",
     "text": [
      "Time consumption 0.5597050189971924 sec\n",
      "Number of distinct targets  68\n"
     ]
    }
   ],
   "source": [
    "start = time.time()\n",
    "# Query:\n",
    "count = test_entries.map(lambda e: e[\"guess\"]).distinct().count()\n",
    "end = time.time()\n",
    "print('Time consumption {} sec'.format(end - start))\n",
    "print('Number of distinct targets ', count)"
   ]
  },
  {
   "attachments": {},
   "cell_type": "markdown",
   "metadata": {},
   "source": [
    "3\\. Return the top three games where the guessed language is incorrect ($\\ne$target) ordered by country (ascending), then target language (ascending), then date (ascending). What is the sample id of the 3rd item in the list? \n",
    "\n",
    "Enter it without quotes, for example 48f9c924e0d98c959d8a6f1862b3ce9a"
   ]
  },
  {
   "cell_type": "code",
   "execution_count": 23,
   "metadata": {
    "ExecuteTime": {
     "end_time": "2021-05-03T15:35:23.809109Z",
     "start_time": "2021-05-03T15:35:21.827970Z"
    },
    "cell_status": {
     "execute_time": {
      "duration": 2255.52197265625,
      "end_time": 1619999884156.929
     }
    },
    "tags": []
   },
   "outputs": [
    {
     "name": "stdout",
     "output_type": "stream",
     "text": [
      "Time consumption 0.5318145751953125 sec\n",
      "[\n",
      "    {\n",
      "        \"guess\": \"Tagalog\",\n",
      "        \"target\": \"Maori\",\n",
      "        \"country\": \"A1\",\n",
      "        \"choices\": [\n",
      "            \"Greek\",\n",
      "            \"Maori\",\n",
      "            \"Tagalog\"\n",
      "        ],\n",
      "        \"sample\": \"bed42a067e94b5bdcf9a9190dc7acae3\",\n",
      "        \"date\": \"2013-09-03\"\n",
      "    },\n",
      "    {\n",
      "        \"guess\": \"Kannada\",\n",
      "        \"target\": \"Somali\",\n",
      "        \"country\": \"A1\",\n",
      "        \"choices\": [\n",
      "            \"Kannada\",\n",
      "            \"Somali\"\n",
      "        ],\n",
      "        \"sample\": \"2591d3700224a4729cbe46e53fdbd707\",\n",
      "        \"date\": \"2013-09-03\"\n",
      "    },\n",
      "    {\n",
      "        \"guess\": \"Czech\",\n",
      "        \"target\": \"Albanian\",\n",
      "        \"country\": \"AE\",\n",
      "        \"choices\": [\n",
      "            \"Albanian\",\n",
      "            \"Czech\",\n",
      "            \"Somali\"\n",
      "        ],\n",
      "        \"sample\": \"00b85faa8b878a14f8781be334deb137\",\n",
      "        \"date\": \"2013-09-03\"\n",
      "    }\n",
      "]\n",
      "Sample id of the third item 00b85faa8b878a14f8781be334deb137\n"
     ]
    }
   ],
   "source": [
    "start = time.time()\n",
    "# Query:\n",
    "correct = test_entries.filter(lambda e: e[\"target\"] != e[\"guess\"])\n",
    "first_three = correct.sortBy(lambda e: (e[\"country\"], e[\"target\"], e[\"date\"])).take(3)\n",
    "end = time.time()\n",
    "print('Time consumption {} sec'.format(end - start))\n",
    "print(json.dumps(first_three, indent=4))\n",
    "print('Sample id of the third item', first_three[-1][\"sample\"])"
   ]
  },
  {
   "cell_type": "markdown",
   "metadata": {},
   "source": [
    "4\\. Aggregate all games by guessed and target language, counting the number of guessing games that were done for each pair (guess, target). How many times has Dutch been mistaken for Norwegian (i.e. Dutch was the true answer)?"
   ]
  },
  {
   "cell_type": "code",
   "execution_count": 30,
   "metadata": {
    "ExecuteTime": {
     "end_time": "2021-05-03T15:40:43.495660Z",
     "start_time": "2021-05-03T15:40:42.877495Z"
    },
    "cell_status": {
     "execute_time": {
      "duration": 744.037109375,
      "end_time": 1619999964374.737
     }
    },
    "tags": []
   },
   "outputs": [
    {
     "name": "stdout",
     "output_type": "stream",
     "text": [
      "Time consumption 0.41964077949523926 sec\n",
      "(('Norwegian', 'Norwegian'), 1403)\n",
      "(('Dinka', 'Dinka'), 268)\n",
      "(('Turkish', 'Samoan'), 17)\n",
      "number of games matching (Norwegian, Dutch)  19\n"
     ]
    }
   ],
   "source": [
    "start = time.time()\n",
    "# Query:\n",
    "counts = test_entries.map(lambda e: (e[\"guess\"], e[\"target\"])).countByValue()\n",
    "end = time.time()\n",
    "print('Time consumption {} sec'.format(end - start))\n",
    "# Print the first few items \n",
    "for k in list(counts)[:3]:\n",
    "    print((k, counts[k]))\n",
    "    \n",
    "print('number of games matching (Norwegian, Dutch) ', counts[('Norwegian', 'Dutch')])"
   ]
  },
  {
   "cell_type": "code",
   "execution_count": 31,
   "metadata": {
    "tags": []
   },
   "outputs": [
    {
     "name": "stdout",
     "output_type": "stream",
     "text": [
      "Time consumption 0.681814432144165 sec\n",
      "(('Norwegian', 'Norwegian'), 1403)\n",
      "(('Dinka', 'Dinka'), 268)\n",
      "(('Turkish', 'Samoan'), 17)\n",
      "number of games matching (Norwegian, Dutch)  19\n"
     ]
    }
   ],
   "source": [
    "# Alternative solution\n",
    "start = time.time()\n",
    "# Query:\n",
    "counts = test_entries.map(lambda e: ((e[\"guess\"], e[\"target\"]), 1)).reduceByKey(lambda x, y: x+y).collect()\n",
    "end = time.time()\n",
    "print('Time consumption {} sec'.format(end - start))\n",
    "# Print the first few items \n",
    "for k in counts[:3]:\n",
    "    print((k[0], k[1]))\n",
    "    \n",
    "print('number of games matching (Norwegian, Dutch) ', dict(counts)[('Norwegian', 'Dutch')])"
   ]
  },
  {
   "cell_type": "markdown",
   "metadata": {},
   "source": [
    "5\\. Among all the games where the guess was correct (=target), what is the percentage of cases where the second choice (among the array of possible answers) was the target?\n",
    "\n",
    "Please write the fraction rounding to 4 decimals (eg. 0.3323)"
   ]
  },
  {
   "cell_type": "code",
   "execution_count": 38,
   "metadata": {
    "ExecuteTime": {
     "end_time": "2021-05-03T15:44:38.257988Z",
     "start_time": "2021-05-03T15:44:37.238548Z"
    },
    "cell_status": {
     "execute_time": {
      "duration": 1265.596923828125,
      "end_time": 1620000286240.596
     }
    },
    "tags": []
   },
   "outputs": [
    {
     "name": "stdout",
     "output_type": "stream",
     "text": [
      "Time consumption 0.7118470668792725 sec\n",
      "percentage  0.3789\n"
     ]
    }
   ],
   "source": [
    "start = time.time()\n",
    "# Query:\n",
    "correct = test_entries.filter(lambda e: e[\"target\"] == e[\"guess\"])\n",
    "percent = correct.filter(lambda e: e[\"target\"] == e[\"choices\"][1]).count() / correct.count()\n",
    "end = time.time()\n",
    "print('Time consumption {} sec'.format(end - start))\n",
    "print('percentage ', round(percent, 4))"
   ]
  },
  {
   "cell_type": "markdown",
   "metadata": {},
   "source": [
    "6\\. For each target language, compute the percentage of successful guess games (i.e. *guess* == *target*) relative to all games for that target language, and display the pairs `(target_language, percentage)` in descending order of the percentage. What is the third language in this list? "
   ]
  },
  {
   "cell_type": "code",
   "execution_count": 39,
   "metadata": {
    "ExecuteTime": {
     "end_time": "2021-05-03T15:46:03.514495Z",
     "start_time": "2021-05-03T15:46:02.433609Z"
    },
    "cell_status": {
     "execute_time": {
      "duration": 1261.2919921875,
      "end_time": 1620000145674.288
     }
    },
    "scrolled": true,
    "tags": []
   },
   "outputs": [
    {
     "name": "stdout",
     "output_type": "stream",
     "text": [
      "Time consumption 0.7850742340087891 sec\n",
      "[('French', 0.9597374179431072), ('German', 0.9455670103092784), ('Mandarin', 0.927967985771454), ('Spanish', 0.9277802392556491), ('Cantonese', 0.9201053555750659), ('Italian', 0.9194690265486726), ('Japanese', 0.9111008751727314), ('Korean', 0.899624765478424), ('Russian', 0.8850305021116847), ('Vietnamese', 0.8693492300049677)]\n",
      "The second language on the list  Mandarin\n"
     ]
    }
   ],
   "source": [
    "start = time.time()\n",
    "# Query:\n",
    "correct = test_entries.map(lambda e: (e[\"target\"], e[\"target\"] == e[\"guess\"])).groupByKey()\n",
    "outcomes = correct.mapValues(lambda e: float(list(e).count(True))/len(e)).sortBy(lambda e: e[1], ascending=False).collect()\n",
    "end = time.time()\n",
    "print('Time consumption {} sec'.format(end - start))\n",
    "# Print the first few values\n",
    "print(outcomes[:10])\n",
    "\n",
    "print('The second language on the list ', outcomes[2][0])"
   ]
  },
  {
   "cell_type": "markdown",
   "metadata": {},
   "source": [
    "7\\. How many games in France (country=FR) were played on the last day? "
   ]
  },
  {
   "cell_type": "code",
   "execution_count": 40,
   "metadata": {
    "ExecuteTime": {
     "end_time": "2021-05-03T17:23:10.632593Z",
     "start_time": "2021-05-03T17:23:08.538836Z"
    },
    "tags": []
   },
   "outputs": [
    {
     "name": "stdout",
     "output_type": "stream",
     "text": [
      "Time consumption 1.0298762321472168 sec\n",
      "latest date  2013-09-03\n",
      "games played on last date  494\n"
     ]
    }
   ],
   "source": [
    "start = time.time()\n",
    "# Query \n",
    "games_in_france = test_entries.filter(lambda e: e[\"country\"] == \"FR\")\n",
    "latest = games_in_france.map(lambda e: e[\"date\"]).sortBy(lambda e: e, ascending=False).first()\n",
    "count = games_in_france.filter(lambda e: e[\"date\"]==latest).count()\n",
    "end = time.time()\n",
    "print('Time consumption {} sec'.format(end - start))\n",
    "print('latest date ', latest)\n",
    "print('games played on last date ', count)"
   ]
  },
  {
   "cell_type": "code",
   "execution_count": null,
   "metadata": {},
   "outputs": [],
   "source": []
  }
 ],
 "metadata": {
  "anaconda-cloud": {},
  "kernelspec": {
   "display_name": "Python 3 (ipykernel)",
   "language": "python",
   "name": "python3"
  },
  "language_info": {
   "codemirror_mode": {
    "name": "ipython",
    "version": 3
   },
   "file_extension": ".py",
   "mimetype": "text/x-python",
   "name": "python",
   "nbconvert_exporter": "python",
   "pygments_lexer": "ipython3",
   "version": "3.10.10"
  }
 },
 "nbformat": 4,
 "nbformat_minor": 4
}
