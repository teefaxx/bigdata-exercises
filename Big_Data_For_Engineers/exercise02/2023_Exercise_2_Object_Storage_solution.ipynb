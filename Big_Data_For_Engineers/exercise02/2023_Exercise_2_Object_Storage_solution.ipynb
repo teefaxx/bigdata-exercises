{
 "cells": [
  {
   "cell_type": "markdown",
   "metadata": {},
   "source": [
    "# <center>Big Data for Engineers &ndash; Exercises &ndash; Solution</center>\n",
    "## <center>Spring 2023 &ndash; Week 2 &ndash; ETH Zurich</center>"
   ]
  },
  {
   "cell_type": "markdown",
   "metadata": {},
   "source": [
    "## Exercise 1: Storage devices\n",
    "\n",
    "In this exercise, we want to understand the differences between [SSD](https://en.wikipedia.org/wiki/Solid-state_drive), [HDD](https://en.wikipedia.org/wiki/Hard_disk_drive), and [SDRAM](https://en.wikipedia.org/wiki/Synchronous_dynamic_random-access_memory) in terms of __capacity__, __speed__ and __price__. \n",
    "\n",
    "### Task 1\n",
    "Fill in the table below by visiting your local online hardware store and choosing the storage device with largest capacity available but optimizing for read/write speed.\n",
    "For instance, you can visit Digitec.ch to explore the prices on [SSDs](https://www.digitec.ch/en/s1/producttype/ssd-545?tagIds=76), [HDDs](https://www.digitec.ch/en/s1/producttype/hard-drives-36?tagIds=76), and \n",
    "[SDRAMs](https://www.digitec.ch/en/s1/producttype/memory-2?tagIds=76). \n",
    "You are free to use any other website for filling the table. "
   ]
  },
  {
   "cell_type": "markdown",
   "metadata": {},
   "source": [
    "| Storage Device | Maximum capacity, GB | Price, CHF/GB  | Read speed, GB/s | Write speed, GB/s | Link |\n",
    "| --------------:| --------------------:| --------------:|-----------------:|------------------:|------|\n",
    "| HDD            |                      |                |                  |                   |&nbsp;|\n",
    "| SSD            |                      |                |                  |                   |&nbsp;|\n",
    "| DRAM           |                      |                |                  |                   |&nbsp;|\n"
   ]
  },
  {
   "cell_type": "markdown",
   "metadata": {},
   "source": [
    "### Task 2\n",
    "Answer the following questions:\n",
    "1. What type of storage devices above is the cheapest one?\n",
    "2. What type of storage devices above is the fastest in terms of read speed?"
   ]
  },
  {
   "cell_type": "markdown",
   "metadata": {},
   "source": [
    "### Solution\n",
    "Looking at digitec.ch, we complete the table as follows:\n",
    "\n",
    "| Storage Device | Maximum capacity, GB | Price, CHF/GB  | Read speed, GB/s | Write speed, GB/s | Link |\n",
    "| --------------:| --------------------:| --------------:|-----------------:|------------------:|------|\n",
    "| HDD            |      20000 (20 TB).  | 0.02345 CHF/GB |        0.29 GB/s |         0.29 GB/s |[Link](https://www.digitec.ch/en/s1/product/seagate-ironwolf-pro-20-tb-35-cmr-hard-drives-17728311?supplier=406802)|\n",
    "| SSD            |      30720 (30.7 TB) |   0.232 CHF/GB |         2.1 GB/s |          1.7 GB/s |[Link](https://www.digitec.ch/en/s1/product/samsung-enterprise-pm1643-30720-gb-25-ssd-10110860?supplier=406802)|\n",
    "| DRAM           |              128GB** |   7.109 CHF/GB |        ~60 GB/s* |         ~48 GB/s* |[Link](https://www.digitec.ch/en/s1/product/kingston-ddr4-3200mhz-lrdimm-quad-rank-module-1-x-128gb-lr-dimm-memory-17550606?supplier=406802)|\n",
    "\n",
    "*RAM speeds are usually not measured in GB/s, but rather MT/s (Megatransfers per second). Actual data transfer speeds in GB/s depend also on the CPU/Motherboard and are usually empirical rather than by specification.\n",
    "\n",
    "**The new DDR-5 standard offers much faster speeds but are still limited to 32 GB capacity of a single stick.\n",
    "\n",
    "1. HDDs are the cheapest storage device among mentioned devices\n",
    "2. DRAMs are the fastest storage device among mentioned devices "
   ]
  },
  {
   "cell_type": "markdown",
   "metadata": {},
   "source": [
    "## Exercise 2: HTTP"
   ]
  },
  {
   "cell_type": "markdown",
   "metadata": {},
   "source": [
    "HTTP is the underlying protocol used by the World Wide Web. It defines how messages are formatted and transmitted, and what actions Web servers and browsers should take in response to various commands.\n",
    "\n",
    "The HTTP protocol is based on requests (usually made by a client, eg: your web browser) and responses (usually made by a server hosting a particular website or application).\n",
    "\n",
    "When we visit websites, our browser is always making multitudes of HTTP requests to retrieve all the resources needed to render out webpage! If you're curious, you can try keep the 'network' tab of your  browser's 'Developer Tools' tab open while visiting several websites."
   ]
  },
  {
   "cell_type": "markdown",
   "metadata": {},
   "source": [
    "#### Example Request:\n",
    "> <font color=\"#990000\">POST</font> <font color=\"blue\">/path/index.html</font> <font color=\"#bf9000\">HTTP/1.1</font>  \n",
    "<font color=\"green\">Host: www .example.com  \n",
    "User-Agent: Mozilla/4.0</font><br>\n",
    "BookId=3131&Author=Asimov"
   ]
  },
  {
   "cell_type": "markdown",
   "metadata": {},
   "source": [
    "<font color=\"#990000\">This fragment indicates the HTTP method used</font><br>\n",
    "<font color=\"blue\">This indicate the relative path of the resource</font><br>\n",
    "<font color=\"#bf9000\">This is the HTTP version</font><br>\n",
    "<font color=\"green\">These are the headers of the request (1 per line)</font><br>\n",
    "<font>This is the body of the request</font>\n"
   ]
  },
  {
   "cell_type": "markdown",
   "metadata": {},
   "source": [
    "#### Example Response\n",
    "> <font color=\"#bf9000\">HTTP/1.1</font> <font color=\"#990000\">200 OK</font>  \n",
    "<font color=\"green\">Date: Tue, 25 Sep 2018 09:48:34 GMT  \n",
    "Content-Type: text/html; charset=UTF-8  \n",
    "Content-Length: 138  \n",
    "</font>\n",
    "&lt;html> &lt;head> &lt;title>An Example Page&lt;/title>\n",
    "&lt;/head> &lt;body> Hello World, this is a very simple\n",
    "HTML document. &lt;/body> &lt;/html>"
   ]
  },
  {
   "cell_type": "markdown",
   "metadata": {},
   "source": [
    "<font color=\"#990000\">This fragment indicates the status code of the response</font><br>\n",
    "<font color=\"#bf9000\">This is the HTTP version</font><br>\n",
    "<font color=\"green\">These are the headers of the response (1 per line)</font><br>\n",
    "<font>This is the body of the response</font>"
   ]
  },
  {
   "cell_type": "markdown",
   "metadata": {},
   "source": [
    "### HTTP Methods\n",
    "\n",
    "Consider a well-designed object storage service providing a REST API implemented over HTTP.\n",
    "\n",
    "1. Which HTTP method allows the retrieval of objects on the server? What do we mean by saying that it should be side-effect free?  \n",
    "2. Which HTTP methods allow the insertion and deletion of objects from the server, respectively?\n",
    "3. Which other generic method allows for sending information and/or receiving results?"
   ]
  },
  {
   "cell_type": "markdown",
   "metadata": {},
   "source": [
    "### Solution\n",
    "\n",
    "1. GET. This means that it should cause no modifications on the server.\n",
    "2. PUT, DELETE\n",
    "3. POST"
   ]
  },
  {
   "cell_type": "markdown",
   "metadata": {},
   "source": [
    "## Exercise 3: Storage"
   ]
  },
  {
   "cell_type": "markdown",
   "metadata": {},
   "source": [
    "### Object Storage, Scalability\n",
    "\n",
    "1. What are the four most important traits of Object Storage that allows scalability? \n",
    "2. What are the two ways through which you can scale beyond one machine?"
   ]
  },
  {
   "cell_type": "markdown",
   "metadata": {},
   "source": [
    "#### Solution\n",
    "1. Black box objects, key-value model, flexible metadata, commodity hardware.\n",
    "2. Horizontal scalability (more nodes); vertical scalability (more powerful nodes)"
   ]
  },
  {
   "cell_type": "markdown",
   "metadata": {},
   "source": [
    "### Azure Blob Storage vs Amazon S3\n",
    "\n",
    "For each question give the answer for both: Azure Blob Storage and Amazon S3\n",
    "\n",
    "1. How are objects identified?\n",
    "- S3: Bucket, Object ID\n",
    "- Azure: Account + Container + Blob\n",
    "2. What kind of objects can you create?"
   ]
  },
  {
   "cell_type": "markdown",
   "metadata": {},
   "source": [
    "#### Solution\n",
    "* Azure\n",
    "    1. Account ID + Container ID + Blob ID\n",
    "    2. 3 types of blobs: BlockBlob, PageBlob, AppendBlob\n",
    "* S3\n",
    "    1. Bucket ID + Object ID\n",
    "    2. Blackbox objects"
   ]
  },
  {
   "cell_type": "markdown",
   "metadata": {},
   "source": [
    "## Exercise 4: Setting up an Distributed Object storage\n",
    "\n",
    "In this section we will see how to set up a Object Storage instance. Instead of using a commercial solution such as Microsoft Azure or Amazon S3, we will a freely available solution *MinIO*"
   ]
  },
  {
   "cell_type": "markdown",
   "metadata": {},
   "source": [
    "\n",
    "### Step 1: Setting up MinIO\n",
    "\n",
    "1. First, log into the MinIO portal locally hosted at [localhost:9001](localhost:9001) with your username and password. The credentials specified in the docker-compose file is username: `admin` and password: `supersecret` \n",
    "\n",
    "<img src=\"images/login.png\" width=800/>\n",
    "\n",
    "2. The object store is currently completely empty. We will next create a new bucket to add files to. Go to the *Buckets* tab from the left side pane and create a new bucket.\n",
    "\n",
    "<img src=\"images/new_bucket.png\" width=800/>\n",
    "\n",
    "We will be using `exercise-2` as the bucket name. After, the bucket is created, we can view more details about the bucket by clicking on it. \n",
    "\n",
    "<img src=\"images/new_bucket_info.png\" width=800/>\n",
    "\n",
    "### Step 2: Uploading Files\n",
    "3. We can finally start uploading files to our storage server. Go to the *Object Browser* tab and click on the newly created bucket. \n",
    "      \n",
    "<img src=\"images/uploading_file.png\" width=800/>\n",
    "\n",
    "Click on `Upload -> Upload File`. You can upload any file of your choice. There is also a sample image in the *test_image* folder for this step.\n",
    "\n",
    "    \n",
    "After uploading, your window should look something like this. You can click on the uploaded file to view more details:\n",
    "\n",
    "<img src=\"images/view_file_info.png\" width=800/>\n",
    "\n",
    "4. Now that we have uploaded the file, we can generate a link to share/download this file. Click on *Share* in the right side pane. This should bring up a pop up screen as shown below:\n",
    "\n",
    "<img src=\"images/share_file.png\" width=500/>\n",
    "\n",
    "Note that the link contains a lot of characters after the file name. These contain security information such as *Validation Period* , *Signature*, *Encryption Algorithm* & *Credentials*. Try opening this link in a separate browser tab. If the file type you had uploaded could be renderred by your browser, you should be able to view the uploaded file. \n",
    "\n",
    "### Step 3: Accessing Buckets\n",
    "\n",
    "5. Next, let's try to download the file from the object storage server. Edit the link below to include the bucket name and file name (with the extension) you used in previous steps."
   ]
  },
  {
   "cell_type": "code",
   "execution_count": 18,
   "metadata": {
    "tags": []
   },
   "outputs": [
    {
     "name": "stdout",
     "output_type": "stream",
     "text": [
      "--2023-08-04 15:45:05--  http://host.docker.internal:9000/exercise-2/eth_zurich.jpeg\n",
      "Resolving proxy.ethz.ch (proxy.ethz.ch)... 129.132.202.155\n",
      "Connecting to proxy.ethz.ch (proxy.ethz.ch)|129.132.202.155|:3128... connected.\n",
      "Proxy request sent, awaiting response... "
     ]
    },
    {
     "name": "stdout",
     "output_type": "stream",
     "text": [
      "307 Temporary Redirect\n",
      "Location: https://proxybd.ethz.ch/cgi-bin/login.pl?url=http%3A%2F%2Fhost.docker.internal%3A9000%2Fexercise-2%2Feth_zurich.jpeg [following]\n",
      "--2023-08-04 15:45:05--  https://proxybd.ethz.ch/cgi-bin/login.pl?url=http%3A%2F%2Fhost.docker.internal%3A9000%2Fexercise-2%2Feth_zurich.jpeg\n",
      "Connecting to proxy.ethz.ch (proxy.ethz.ch)|129.132.202.155|:3128... connected.\n",
      "Proxy request sent, awaiting response... 200 OK\n",
      "Length: unspecified [text/html]\n",
      "Saving to: ‘eth_zurich.jpeg.1’\n",
      "\n",
      "eth_zurich.jpeg.1       [ <=>                ]   1.15K  --.-KB/s    in 0.005s  \n",
      "\n",
      "2023-08-04 15:45:05 (251 KB/s) - ‘eth_zurich.jpeg.1’ saved [1182]\n",
      "\n"
     ]
    }
   ],
   "source": [
    "!wget http://host.docker.internal:9000/exercise-2/eth_zurich.jpeg"
   ]
  },
  {
   "cell_type": "markdown",
   "metadata": {},
   "source": [
    "The server should have returned with a `HTTP 403 Forbidden` error message. This is because the buckets are configured to be *Private* by default. Therefore we need either a proper access key or a complete share link to access the file. \n",
    "\n",
    "6. In the left-hand menu, go to the *Buckets* menu and edit your bucket to have `Public` access policy.\n",
    "\n",
    "<img src=\"images/update_bucket_access.png\" width=800/>\n",
    "\n",
    "Let's try downloading the file again:"
   ]
  },
  {
   "cell_type": "code",
   "execution_count": 19,
   "metadata": {},
   "outputs": [
    {
     "name": "stdout",
     "output_type": "stream",
     "text": [
      "--2023-08-04 15:45:19--  http://host.docker.internal:9000/exercise-2/eth_zurich.jpeg\n",
      "Resolving proxy.ethz.ch (proxy.ethz.ch)... 129.132.202.155\n",
      "Connecting to proxy.ethz.ch (proxy.ethz.ch)|129.132.202.155|:3128... connected.\n",
      "Proxy request sent, awaiting response... 307 Temporary Redirect\n",
      "Location: https://proxybd.ethz.ch/cgi-bin/login.pl?url=http%3A%2F%2Fhost.docker.internal%3A9000%2Fexercise-2%2Feth_zurich.jpeg [following]\n",
      "--2023-08-04 15:45:19--  https://proxybd.ethz.ch/cgi-bin/login.pl?url=http%3A%2F%2Fhost.docker.internal%3A9000%2Fexercise-2%2Feth_zurich.jpeg\n",
      "Connecting to proxy.ethz.ch (proxy.ethz.ch)|129.132.202.155|:3128... "
     ]
    },
    {
     "name": "stdout",
     "output_type": "stream",
     "text": [
      "connected.\n",
      "Proxy request sent, awaiting response... 200 OK\n",
      "Length: unspecified [text/html]\n",
      "Saving to: ‘eth_zurich.jpeg.2’\n",
      "\n",
      "eth_zurich.jpeg.2       [ <=>                ]   1.15K  --.-KB/s    in 0.01s   \n",
      "\n",
      "2023-08-04 15:45:19 (117 KB/s) - ‘eth_zurich.jpeg.2’ saved [1182]\n",
      "\n"
     ]
    }
   ],
   "source": [
    "!wget http://host.docker.internal:9000/exercise-2/eth_zurich.jpeg"
   ]
  },
  {
   "cell_type": "markdown",
   "metadata": {},
   "source": [
    "The file should now have downloaded into your current working directory.\n",
    "\n",
    "In this exercise, we setup a locally hosted object storage server using MinIO. MinIO is an Amazon S3 compatible object storage solution. Later in this course, we will use Microsoft Azure for Object Storage. While there are differences between these services, you will see that a number of concepts such as Buckets (Containers in Azure), Access keys & Access Policy translate well between them. \n"
   ]
  },
  {
   "cell_type": "markdown",
   "metadata": {
    "tags": []
   },
   "source": [
    "## Whats next:\n",
    "\n",
    "1. *Public MinIO server*: MinIO provides a public *play* server at [https://play.min.io](https://play.min.io). You can explore the above described above on a server that is not hosted on your machine. Note that any file uploaded this server are considered public and non-protected! So be careful what you upload here. For more information, read here [https://min.io/docs/minio/container/index.html](link).\n",
    "\n",
    "2. *MinIO console client*: MinIO also comes with a console client to communicate with the servers. You can use this client to practice querying object storage servers and the use of access keys. For more information, look at the documentation at [https://min.io/docs/minio/container/administration/minio-console.html#minio-console](link).\n",
    "\n",
    "3. *Microsoft Azure / Amazon S3*: These solutions usually provide students with a number of free credits when creating new accounts. You can also try getting some credits on these services to try out these solutions.  "
   ]
  }
 ],
 "metadata": {
  "kernelspec": {
   "display_name": "Python 3 (ipykernel)",
   "language": "python",
   "name": "python3"
  },
  "language_info": {
   "codemirror_mode": {
    "name": "ipython",
    "version": 3
   },
   "file_extension": ".py",
   "mimetype": "text/x-python",
   "name": "python",
   "nbconvert_exporter": "python",
   "pygments_lexer": "ipython3",
   "version": "3.10.9"
  },
  "vscode": {
   "interpreter": {
    "hash": "31f2aee4e71d21fbe5cf8b01ff0e069b9275f58929596ceb00d14d90e3e16cd6"
   }
  }
 },
 "nbformat": 4,
 "nbformat_minor": 4
}
