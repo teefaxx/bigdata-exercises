{
 "cells": [
  {
   "cell_type": "markdown",
   "metadata": {
    "id": "Zo6cemRekqqm"
   },
   "source": [
    "# Big Data for Engineers – Moodle - Solutions\n",
    "\n",
    "# Spring 2023 -  Week 11 - Rumble\n",
    "\n"
   ]
  },
  {
   "cell_type": "markdown",
   "metadata": {
    "id": "FgAZKWlwkvrk"
   },
   "source": [
    "# Preparation for the moodle exercise in Spark\n"
   ]
  },
  {
   "cell_type": "markdown",
   "metadata": {},
   "source": [
    "## 1. Install Java and Download Rumble\n",
    "Please follow the instructions in Exercise11_Rumble_2023.ipynb."
   ]
  },
  {
   "cell_type": "markdown",
   "metadata": {},
   "source": [
    "## 2. Setup Working Environment\n",
    "1. Go to the folder where this notebook is in: `cd [path to the folder]`\n",
    "2. Start your jupyter notebook: `jupyter notebook`\n",
    "3. Start your own Rumble server: `java -jar rumbledb-1.21.0-standalone.jar --server yes --port 9090`\n",
    "4. Execute the cell below:"
   ]
  },
  {
   "cell_type": "code",
   "execution_count": null,
   "metadata": {},
   "outputs": [],
   "source": [
    "!pip install rumbledb\n",
    "%load_ext rumbledb\n",
    "%env RUMBLEDB_SERVER=http://localhost:9090/jsoniq"
   ]
  },
  {
   "cell_type": "markdown",
   "metadata": {},
   "source": [
    "Verify that jsoniq works."
   ]
  },
  {
   "cell_type": "code",
   "execution_count": 2,
   "metadata": {
    "id": "C6lJq6kJ2HoB"
   },
   "outputs": [
    {
     "name": "stdout",
     "output_type": "stream",
     "text": [
      "Took: 0.0179288387298584 ms\n",
      "2\n"
     ]
    }
   ],
   "source": [
    "%%jsoniq\n",
    "1+1"
   ]
  },
  {
   "cell_type": "markdown",
   "metadata": {
    "cell_status": {
     "execute_time": {
      "duration": 44.55712890625,
      "end_time": 1557044256642.663
     }
    },
    "collapsed": true,
    "id": "YzHCdZ2Ld-kt"
   },
   "source": [
    "## 3. Prepare the Data: The Great Language Game\n",
    "\n",
    "This week you will be using again the [language confusion dataset](https://quietlyamused.org/blog/2014/03/12/language-confusion/). Make sure you use the correct dataset.\n",
    "### Please use the first 80k records of the \"confusion-100000.json\" dataset\n",
    "We can obtain the first 80k records like this: `subsequence(json-file(\"confusion-100000.json\", 10), 1, 80000)`"
   ]
  },
  {
   "cell_type": "code",
   "execution_count": 3,
   "metadata": {},
   "outputs": [
    {
     "name": "stdout",
     "output_type": "stream",
     "text": [
      "Took: 0.22565031051635742 ms\n",
      "80000\n"
     ]
    }
   ],
   "source": [
    "%%jsoniq\n",
    "count(subsequence(json-file(\"confusion-100000.json\", 10), 1, 80000))"
   ]
  },
  {
   "cell_type": "markdown",
   "metadata": {},
   "source": [
    "## 4. Instructions\n",
    "You should write __JSONiq__ queries only. \\\n",
    "For each quation, you have to submit the following results to the Moodle quiz:\n",
    "- The query you wrote\n",
    "- The query output __in the required format__ (which you will be graded on)\n",
    "- The time it took you to run it (optional and not graded)\n",
    "\n",
    "The execution time of the queries will be reported by Rumble."
   ]
  },
  {
   "cell_type": "markdown",
   "metadata": {},
   "source": [
    "# Questions"
   ]
  },
  {
   "cell_type": "markdown",
   "metadata": {},
   "source": [
    "## Assignment 1\n",
    "Find all games such that the guessed language is correct (=target), and such that this language is Spanish. What is the length of the resulting sequence?"
   ]
  },
  {
   "cell_type": "code",
   "execution_count": 4,
   "metadata": {},
   "outputs": [
    {
     "name": "stdout",
     "output_type": "stream",
     "text": [
      "Took: 0.3441760540008545 ms\n",
      "1672\n"
     ]
    }
   ],
   "source": [
    "%%jsoniq\n",
    "count(\n",
    "    for $i in subsequence(json-file(\"confusion-100000.json\", 10), 1, 80000)\n",
    "    where $i.guess eq $i.target and $i.target eq \"Spanish\"\n",
    "    return $i\n",
    ")"
   ]
  },
  {
   "cell_type": "markdown",
   "metadata": {},
   "source": [
    "## Assignment 2\n",
    "Find the number of all distinct values of the guessed languages (i.e. the guess field). What is the length of the resulting sequence?"
   ]
  },
  {
   "cell_type": "code",
   "execution_count": 5,
   "metadata": {},
   "outputs": [
    {
     "name": "stdout",
     "output_type": "stream",
     "text": [
      "Took: 0.40917491912841797 ms\n",
      "68\n"
     ]
    }
   ],
   "source": [
    "%%jsoniq\n",
    "count(distinct-values(\n",
    "    for $i in subsequence(json-file(\"confusion-100000.json\", 10), 1, 80000)\n",
    "    return $i.guess\n",
    "))"
   ]
  },
  {
   "cell_type": "markdown",
   "metadata": {},
   "source": [
    "## Assignment 3\n",
    "Return the top three games where the guessed language is incorrect ($\\neq$ target) ordered by country (ascending), then target language (ascending), then date (ascending). What is the sample id of the 3rd item in the list?\n",
    "\n",
    "Enter it without quotes, for example 48f9c924e0d98c959d8a6f1862b3ce9a"
   ]
  },
  {
   "cell_type": "code",
   "execution_count": 6,
   "metadata": {},
   "outputs": [
    {
     "name": "stdout",
     "output_type": "stream",
     "text": [
      "Took: 1.2181332111358643 ms\n",
      "\"3520fdcdf2658685928fc37e72ab2134\"\n"
     ]
    }
   ],
   "source": [
    "%%jsoniq\n",
    "let $ordered_confusion := for $i in subsequence(json-file(\"confusion-100000.json\", 10), 1, 80000)\n",
    "                where $i.guess ne $i.target\n",
    "                order by $i.country, $i.target, $i.date\n",
    "                return $i\n",
    "for $j in $ordered_confusion\n",
    "count $c\n",
    "where $c eq 3\n",
    "return $j.sample"
   ]
  },
  {
   "cell_type": "markdown",
   "metadata": {},
   "source": [
    "## Assignment 4\n",
    "Aggregate all games by guessed and target language, counting the number of guessing games that were done for each pair (guess, target). How many times has Dutch been mistaken for Norwegian (i.e. Dutch was the true answer)?"
   ]
  },
  {
   "cell_type": "code",
   "execution_count": 7,
   "metadata": {},
   "outputs": [
    {
     "name": "stdout",
     "output_type": "stream",
     "text": [
      "Took: 0.2951669692993164 ms\n",
      "19\n"
     ]
    }
   ],
   "source": [
    "%%jsoniq\n",
    "count(\n",
    "    for $i in subsequence(json-file(\"confusion-100000.json\", 10), 1, 80000)\n",
    "    where $i.guess eq \"Norwegian\" and $i.target eq \"Dutch\"\n",
    "    return $i\n",
    ")"
   ]
  },
  {
   "cell_type": "markdown",
   "metadata": {},
   "source": [
    "## Assignment 5\n",
    "Among all the games where the guess was correct (=target), what is the percentage of cases where the second choice (among the array of possible answers) was the target?\n",
    "\n",
    "Please write the fraction rounding to 4 decimals (eg. 0.3323)"
   ]
  },
  {
   "cell_type": "code",
   "execution_count": 8,
   "metadata": {},
   "outputs": [
    {
     "name": "stdout",
     "output_type": "stream",
     "text": [
      "Took: 0.6639571189880371 ms\n",
      "0.3752740329\n"
     ]
    }
   ],
   "source": [
    "%%jsoniq\n",
    "let $correct := for $i in subsequence(json-file(\"confusion-100000.json\", 10), 1, 80000)\n",
    "                where $i.guess eq $i.target\n",
    "                return $i\n",
    "let $second_correct := for $i in $correct\n",
    "                where $i.target eq $i.choices[[2]]\n",
    "                return $i\n",
    "return count($second_correct) div count($correct) "
   ]
  },
  {
   "cell_type": "markdown",
   "metadata": {},
   "source": [
    "## Assignment 6\n",
    "For each target language, compute the percentage of successful guess games (i.e. guess == target) relative to all games for that target language, and display the pairs (target_language, percentage) in descending order of the percentage. What is the third language in this list?"
   ]
  },
  {
   "cell_type": "code",
   "execution_count": 9,
   "metadata": {},
   "outputs": [
    {
     "name": "stdout",
     "output_type": "stream",
     "text": [
      "Took: 2.6805953979492188 ms\n",
      "\"Spanish\"\n"
     ]
    }
   ],
   "source": [
    "%%jsoniq\n",
    "let $grouped_data := for $i in subsequence(json-file(\"confusion-100000.json\", 10), 1, 80000)\n",
    "                    group by $target := $i.target\n",
    "                    return {\"target\": $target, \"guesses\": $i.guess}\n",
    "for $j in $grouped_data\n",
    "let $correct := for $guess in $j.guesses[]\n",
    "                where $guess eq $j.target\n",
    "                return $guess\n",
    "let $percentage := count($correct) div count($j.guesses[])\n",
    "order by $percentage descending\n",
    "count $c\n",
    "where $c eq 3\n",
    "return $j.target"
   ]
  },
  {
   "cell_type": "code",
   "execution_count": 10,
   "metadata": {},
   "outputs": [
    {
     "name": "stdout",
     "output_type": "stream",
     "text": [
      "Took: 11.627791166305542 ms\n",
      "\"Spanish\"\n"
     ]
    }
   ],
   "source": [
    "%%jsoniq\n",
    "let $grouped_guesses := for $i in subsequence(json-file(\"confusion-100000.json\", 10), 1, 80000)\n",
    "                        group by $target := $i.target\n",
    "                        return {\"target\": $target, \"count\": count($i.guess)}\n",
    "let $correct_guesses := for $i in subsequence(json-file(\"confusion-100000.json\", 10), 1, 80000)\n",
    "                        where $i.guess eq $i.target\n",
    "                        group by $target := $i.target\n",
    "                        return {\"target\": $target, \"count\": count($i.guess)}\n",
    "for $i in $grouped_guesses, $j in $correct_guesses\n",
    "where $i.target eq $j.target\n",
    "let $percentage := $j.count div $i.count\n",
    "order by $percentage descending\n",
    "count $c\n",
    "where $c eq 3\n",
    "return $i.target"
   ]
  },
  {
   "cell_type": "markdown",
   "metadata": {},
   "source": [
    "## Assignment 7\n",
    "How many games in France (country=FR) were played on the last day?"
   ]
  },
  {
   "cell_type": "code",
   "execution_count": 11,
   "metadata": {},
   "outputs": [
    {
     "name": "stdout",
     "output_type": "stream",
     "text": [
      "Took: 2.669163942337036 ms\n",
      "265\n"
     ]
    }
   ],
   "source": [
    "%%jsoniq\n",
    "count(\n",
    "    for $i in subsequence(json-file(\"confusion-100000.json\", 10), 1, 80000)\n",
    "    where $i.country eq \"FR\"\n",
    "    group by $date := $i.date\n",
    "    order by $date descending\n",
    "    count $c\n",
    "    where $c eq 1\n",
    "    return $i\n",
    ")"
   ]
  },
  {
   "cell_type": "code",
   "execution_count": null,
   "metadata": {},
   "outputs": [],
   "source": []
  }
 ],
 "metadata": {
  "colab": {
   "collapsed_sections": [
    "Uy48JTprhrKW",
    "eELMD0pqhrKW",
    "3Pcf7FL7Aetl",
    "OG0xJS2KHEF3",
    "jQycXJuCHHJW",
    "3ivTnfw5HMZz",
    "sKmgYw_jHPZ3",
    "IAjnh_H2HUa1",
    "yVvQBpVxHWuz",
    "XW8fQM8WHYt7",
    "PE_9pQzhAOyo"
   ],
   "name": "Exercise12_Rumble_Solutions.ipynb",
   "provenance": [],
   "toc_visible": true
  },
  "kernelspec": {
   "display_name": "Python 3",
   "language": "python",
   "name": "python3"
  },
  "language_info": {
   "codemirror_mode": {
    "name": "ipython",
    "version": 3
   },
   "file_extension": ".py",
   "mimetype": "text/x-python",
   "name": "python",
   "nbconvert_exporter": "python",
   "pygments_lexer": "ipython3",
   "version": "3.8.8"
  },
  "toc": {
   "base_numbering": 1,
   "nav_menu": {},
   "number_sections": true,
   "sideBar": true,
   "skip_h1_title": false,
   "title_cell": "Table of Contents",
   "title_sidebar": "Contents",
   "toc_cell": false,
   "toc_position": {},
   "toc_section_display": true,
   "toc_window_display": false
  }
 },
 "nbformat": 4,
 "nbformat_minor": 1
}
